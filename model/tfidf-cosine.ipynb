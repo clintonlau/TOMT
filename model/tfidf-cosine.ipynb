{
 "cells": [
  {
   "cell_type": "code",
   "execution_count": 4,
   "metadata": {},
   "outputs": [],
   "source": [
    "import pandas as pd\n",
    "from sklearn.feature_extraction.text import TfidfVectorizer\n",
    "import pickle\n",
    "\n",
    "df_recipes = pd.read_csv('../data/nytc_features.pkl')\n",
    "\n",
    "# Tfidf needs unicode or string types\n",
    "df_recipes['ingredient_parsed'] = df_recipes['ingredient_parsed'].values.astype('U')\n",
    "\n",
    "# TF-IDF feature extractor\n",
    "tfidf = TfidfVectorizer()\n",
    "tfidf.fit(df_recipes['ingredient_parsed'])\n",
    "tfidf_encodings = tfidf.transform(df_recipes['ingredient_parsed'])\n",
    "\n",
    "# save the tfidf model and encodings\n",
    "with open('./tfidf.pkl', \"wb\") as f:\n",
    "     pickle.dump(tfidf, f)\n",
    "with open('./tfidf_encodings.pkl', \"wb\") as f:\n",
    "     pickle.dump(tfidf_encodings, f)"
   ]
  },
  {
   "cell_type": "code",
   "execution_count": null,
   "metadata": {},
   "outputs": [],
   "source": []
  },
  {
   "cell_type": "code",
   "execution_count": null,
   "metadata": {},
   "outputs": [],
   "source": []
  },
  {
   "cell_type": "code",
   "execution_count": null,
   "metadata": {},
   "outputs": [],
   "source": []
  }
 ],
 "metadata": {
  "kernelspec": {
   "display_name": "recipe-app",
   "language": "python",
   "name": "python3"
  },
  "language_info": {
   "codemirror_mode": {
    "name": "ipython",
    "version": 3
   },
   "file_extension": ".py",
   "mimetype": "text/x-python",
   "name": "python",
   "nbconvert_exporter": "python",
   "pygments_lexer": "ipython3",
   "version": "3.10.11"
  },
  "orig_nbformat": 4
 },
 "nbformat": 4,
 "nbformat_minor": 2
}
