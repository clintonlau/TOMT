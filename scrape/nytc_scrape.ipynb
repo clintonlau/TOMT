{
 "cells": [
  {
   "cell_type": "code",
   "execution_count": null,
   "metadata": {},
   "outputs": [],
   "source": [
    "from bs4 import BeautifulSoup \n",
    "import requests\n",
    "import pandas as pd\n",
    "import numpy as np\n",
    "pd.set_option('display.max_colwidth', None)\n",
    "import time\n",
    "\n",
    "from tqdm.notebook import tqdm\n",
    "import extruct\n",
    "import pickle"
   ]
  },
  {
   "cell_type": "code",
   "execution_count": null,
   "metadata": {},
   "outputs": [],
   "source": [
    "headers = {\n",
    "    \"User-Agent\": \"Mozilla/5.0 (Macintosh; Intel Mac OS X 10_15_7) AppleWebKit/605.1.15 (KHTML, like Gecko) Version/16.5 Safari/605.1.15\"\n",
    "}"
   ]
  },
  {
   "cell_type": "code",
   "execution_count": null,
   "metadata": {},
   "outputs": [],
   "source": [
    "sitemap_url = 'https://www.nytimes.com/sitemaps/new/cooking.xml.gz'\n",
    "response = requests.get(sitemap_url, headers=headers)\n",
    "sitemap_xml = response.text\n",
    "sitemap_soup = BeautifulSoup(sitemap_xml, features='xml')\n",
    "\n",
    "gz_urls = []\n",
    "loc_tags = sitemap_soup.find_all('loc')\n",
    "\n",
    "for loc in loc_tags:\n",
    "    gz_urls.append(loc.get_text()) \n",
    "\n",
    "display(gz_urls)\n",
    "print(len(gz_urls))"
   ]
  },
  {
   "cell_type": "code",
   "execution_count": null,
   "metadata": {},
   "outputs": [],
   "source": [
    "with open('../data/nytc_raw_urls.pkl', 'rb') as f:\n",
    "    recipe_urls = pickle.load(f)"
   ]
  },
  {
   "cell_type": "code",
   "execution_count": null,
   "metadata": {},
   "outputs": [],
   "source": [
    "# recipe_urls = []\n",
    "\n",
    "# for url in tqdm(gz_urls):\n",
    "#     response = requests.get(url, headers=headers)\n",
    "#     sitemap_soup = BeautifulSoup(response.text, features='xml')\n",
    "#     loc_tags = sitemap_soup.find_all('loc')\n",
    "#     for loc in loc_tags:\n",
    "#         recipe_urls.append(loc.get_text()) \n"
   ]
  },
  {
   "cell_type": "code",
   "execution_count": null,
   "metadata": {},
   "outputs": [],
   "source": [
    "display(recipe_urls)\n",
    "len(recipe_urls)"
   ]
  },
  {
   "cell_type": "code",
   "execution_count": null,
   "metadata": {},
   "outputs": [],
   "source": [
    "# with open('../data/nytc_raw_urls.pkl', 'wb') as f:\n",
    "#     pickle.dump(recipe_urls, f)"
   ]
  },
  {
   "attachments": {},
   "cell_type": "markdown",
   "metadata": {},
   "source": [
    "Quick and dirty prune?"
   ]
  },
  {
   "cell_type": "code",
   "execution_count": null,
   "metadata": {},
   "outputs": [],
   "source": [
    "import random\n",
    "\n",
    "random_url = random.choice(recipe_urls)\n",
    "print(random_url)"
   ]
  },
  {
   "cell_type": "code",
   "execution_count": null,
   "metadata": {},
   "outputs": [],
   "source": [
    "import extruct\n",
    "\n",
    "page = requests.get(random_url, headers=headers)\n",
    "recipe_soup = BeautifulSoup(page.text, 'html.parser')\n",
    "\n",
    "recipe_data = extruct.extract(\n",
    "            page.text,\n",
    "            syntaxes=['json-ld'],\n",
    "            uniform=True,\n",
    "        )['json-ld'][0]\n",
    "display(recipe_data)"
   ]
  },
  {
   "cell_type": "code",
   "execution_count": null,
   "metadata": {},
   "outputs": [],
   "source": [
    "headline = recipe_data['name'] # or 'name'\n",
    "nutrition = recipe_data['nutrition']\n",
    "category = recipe_data['recipeCategory']\n",
    "cuisine = recipe_data['recipeCuisine']\n",
    "ingredient = recipe_data['recipeIngredient']\n",
    "instruction = recipe_data['recipeInstructions'][0]['text']\n",
    "\n",
    "print(headline)\n",
    "print(nutrition)\n",
    "print(category)\n",
    "print(cuisine)\n",
    "print(ingredient)\n",
    "print(instruction)"
   ]
  },
  {
   "attachments": {},
   "cell_type": "markdown",
   "metadata": {},
   "source": [
    "Test out a few recipes first"
   ]
  },
  {
   "cell_type": "code",
   "execution_count": null,
   "metadata": {},
   "outputs": [],
   "source": [
    "from nytc import NYTC\n",
    "\n",
    "recipes = pd.Series(recipe_urls, name='url')\n",
    "features = ['recipe_name', 'nutrition', 'category', 'cuisine', 'ingredient', 'instruction', 'raw_schema']"
   ]
  },
  {
   "cell_type": "code",
   "execution_count": null,
   "metadata": {},
   "outputs": [],
   "source": [
    "feature_df = pd.DataFrame(columns=features)\n",
    "for i in tqdm(range(10)):\n",
    "    url = recipes.iloc[i]\n",
    "    try:\n",
    "        recipe = NYTC(url)\n",
    "        feature_df.loc[i] = [getattr(recipe, feature)() for feature in features]\n",
    "        time.sleep(np.random.uniform(0.05, 1))\n",
    "    except:\n",
    "        feature_df.loc[i] = [np.nan] * len(features)\n"
   ]
  },
  {
   "cell_type": "code",
   "execution_count": null,
   "metadata": {},
   "outputs": [],
   "source": [
    "feature_df.head(3)"
   ]
  },
  {
   "cell_type": "code",
   "execution_count": null,
   "metadata": {},
   "outputs": [],
   "source": [
    "feature_df = pd.DataFrame(columns=features)\n",
    "for i in tqdm(range(len(recipe_urls))):\n",
    "    url = recipes.iloc[i]\n",
    "    try:\n",
    "        recipe = NYTC(url)\n",
    "        feature_df.loc[i] = [getattr(recipe, feature)() for feature in features]\n",
    "        time.sleep(np.random.uniform(0.05, 1))\n",
    "    except:\n",
    "        feature_df.loc[i] = [np.nan] * len(features)"
   ]
  },
  {
   "cell_type": "code",
   "execution_count": null,
   "metadata": {},
   "outputs": [],
   "source": [
    "data_df = pd.concat([recipes, feature_df], axis=1)"
   ]
  },
  {
   "cell_type": "code",
   "execution_count": null,
   "metadata": {},
   "outputs": [],
   "source": [
    "data_df.to_pickle('../data/nytc_data.pkl')"
   ]
  },
  {
   "attachments": {},
   "cell_type": "markdown",
   "metadata": {},
   "source": [
    "Sanity Check"
   ]
  },
  {
   "cell_type": "code",
   "execution_count": null,
   "metadata": {},
   "outputs": [],
   "source": [
    "data_df.sample(10)\n"
   ]
  },
  {
   "cell_type": "code",
   "execution_count": null,
   "metadata": {},
   "outputs": [],
   "source": []
  }
 ],
 "metadata": {
  "kernelspec": {
   "display_name": "recipe-app",
   "language": "python",
   "name": "python3"
  },
  "language_info": {
   "codemirror_mode": {
    "name": "ipython",
    "version": 3
   },
   "file_extension": ".py",
   "mimetype": "text/x-python",
   "name": "python",
   "nbconvert_exporter": "python",
   "pygments_lexer": "ipython3",
   "version": "3.10.11"
  },
  "orig_nbformat": 4
 },
 "nbformat": 4,
 "nbformat_minor": 2
}
