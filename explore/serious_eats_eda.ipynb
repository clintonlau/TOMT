{
 "cells": [
  {
   "cell_type": "code",
   "execution_count": 58,
   "metadata": {},
   "outputs": [],
   "source": [
    "import pandas as pd\n",
    "import matplotlib.pyplot as plt\n",
    "import seaborn as sns\n",
    "import numpy as np\n",
    "%matplotlib inline"
   ]
  },
  {
   "cell_type": "code",
   "execution_count": 2,
   "metadata": {},
   "outputs": [
    {
     "data": {
      "text/html": [
       "<div>\n",
       "<style scoped>\n",
       "    .dataframe tbody tr th:only-of-type {\n",
       "        vertical-align: middle;\n",
       "    }\n",
       "\n",
       "    .dataframe tbody tr th {\n",
       "        vertical-align: top;\n",
       "    }\n",
       "\n",
       "    .dataframe thead th {\n",
       "        text-align: right;\n",
       "    }\n",
       "</style>\n",
       "<table border=\"1\" class=\"dataframe\">\n",
       "  <thead>\n",
       "    <tr style=\"text-align: right;\">\n",
       "      <th></th>\n",
       "      <th>url</th>\n",
       "      <th>recipe_name</th>\n",
       "      <th>nutrition</th>\n",
       "      <th>category</th>\n",
       "      <th>cuisine</th>\n",
       "      <th>ingredient</th>\n",
       "      <th>instruction</th>\n",
       "    </tr>\n",
       "  </thead>\n",
       "  <tbody>\n",
       "    <tr>\n",
       "      <th>0</th>\n",
       "      <td>https://www.seriouseats.com/strawberry-lemonad...</td>\n",
       "      <td>Strawberry Lemonade</td>\n",
       "      <td>NaN</td>\n",
       "      <td>['Beverage']</td>\n",
       "      <td>['American']</td>\n",
       "      <td>['For the Strawberry Lemonade Concentrate:', '...</td>\n",
       "      <td>['For the Strawberry Lemonade Concentrate: In ...</td>\n",
       "    </tr>\n",
       "    <tr>\n",
       "      <th>1</th>\n",
       "      <td>https://www.seriouseats.com/red-wine-braised-b...</td>\n",
       "      <td>Red Wine-Braised Beef Shanks</td>\n",
       "      <td>{'@type': 'NutritionInformation', 'calories': ...</td>\n",
       "      <td>['Dinner', 'Entree', 'Mains']</td>\n",
       "      <td>['American']</td>\n",
       "      <td>['6 beef hindquarter shanks (about 1 1/2 inche...</td>\n",
       "      <td>['Preheat oven to 300°F (150°C). Season shanks...</td>\n",
       "    </tr>\n",
       "    <tr>\n",
       "      <th>2</th>\n",
       "      <td>https://www.seriouseats.com/taiwanese-meat-sau...</td>\n",
       "      <td>Lu Rou Fan (Taiwanese Meat Sauce with Rice)</td>\n",
       "      <td>{'@type': 'NutritionInformation', 'calories': ...</td>\n",
       "      <td>['Lunch', 'Dinner', 'Condiments and Sauces', '...</td>\n",
       "      <td>['Asian']</td>\n",
       "      <td>['2 cups vegetable or canola oil', '1 1/2 cups...</td>\n",
       "      <td>['Line a large plate with a triple layer of pa...</td>\n",
       "    </tr>\n",
       "    <tr>\n",
       "      <th>3</th>\n",
       "      <td>https://www.seriouseats.com/chacarero-chileno-...</td>\n",
       "      <td>Chacarero Chileno (Chilean Steak and Bean Sand...</td>\n",
       "      <td>{'@type': 'NutritionInformation', 'calories': ...</td>\n",
       "      <td>['Entree', 'Lunch', 'Dinner', 'Mains', 'Quick ...</td>\n",
       "      <td>['Latin American', 'Latin']</td>\n",
       "      <td>['Kosher salt', '1/2 pound (225g) green beans,...</td>\n",
       "      <td>['Bring a large pot of salted water to a rolli...</td>\n",
       "    </tr>\n",
       "    <tr>\n",
       "      <th>4</th>\n",
       "      <td>https://www.seriouseats.com/blue-cheese-dip-sa...</td>\n",
       "      <td>Blue Cheese Dip</td>\n",
       "      <td>{'@type': 'NutritionInformation', 'calories': ...</td>\n",
       "      <td>['Snack', 'Appetizer', 'Condiments and Sauces'...</td>\n",
       "      <td>['American']</td>\n",
       "      <td>['1/4 pound blue cheese', '1/2 cup mayonnaise'...</td>\n",
       "      <td>['In a medium bowl, mash blue cheese with a fo...</td>\n",
       "    </tr>\n",
       "  </tbody>\n",
       "</table>\n",
       "</div>"
      ],
      "text/plain": [
       "                                                 url  \\\n",
       "0  https://www.seriouseats.com/strawberry-lemonad...   \n",
       "1  https://www.seriouseats.com/red-wine-braised-b...   \n",
       "2  https://www.seriouseats.com/taiwanese-meat-sau...   \n",
       "3  https://www.seriouseats.com/chacarero-chileno-...   \n",
       "4  https://www.seriouseats.com/blue-cheese-dip-sa...   \n",
       "\n",
       "                                         recipe_name  \\\n",
       "0                                Strawberry Lemonade   \n",
       "1                       Red Wine-Braised Beef Shanks   \n",
       "2       Lu Rou Fan (Taiwanese Meat Sauce with Rice)    \n",
       "3  Chacarero Chileno (Chilean Steak and Bean Sand...   \n",
       "4                                    Blue Cheese Dip   \n",
       "\n",
       "                                           nutrition  \\\n",
       "0                                                NaN   \n",
       "1  {'@type': 'NutritionInformation', 'calories': ...   \n",
       "2  {'@type': 'NutritionInformation', 'calories': ...   \n",
       "3  {'@type': 'NutritionInformation', 'calories': ...   \n",
       "4  {'@type': 'NutritionInformation', 'calories': ...   \n",
       "\n",
       "                                            category  \\\n",
       "0                                       ['Beverage']   \n",
       "1                      ['Dinner', 'Entree', 'Mains']   \n",
       "2  ['Lunch', 'Dinner', 'Condiments and Sauces', '...   \n",
       "3  ['Entree', 'Lunch', 'Dinner', 'Mains', 'Quick ...   \n",
       "4  ['Snack', 'Appetizer', 'Condiments and Sauces'...   \n",
       "\n",
       "                       cuisine  \\\n",
       "0                 ['American']   \n",
       "1                 ['American']   \n",
       "2                    ['Asian']   \n",
       "3  ['Latin American', 'Latin']   \n",
       "4                 ['American']   \n",
       "\n",
       "                                          ingredient  \\\n",
       "0  ['For the Strawberry Lemonade Concentrate:', '...   \n",
       "1  ['6 beef hindquarter shanks (about 1 1/2 inche...   \n",
       "2  ['2 cups vegetable or canola oil', '1 1/2 cups...   \n",
       "3  ['Kosher salt', '1/2 pound (225g) green beans,...   \n",
       "4  ['1/4 pound blue cheese', '1/2 cup mayonnaise'...   \n",
       "\n",
       "                                         instruction  \n",
       "0  ['For the Strawberry Lemonade Concentrate: In ...  \n",
       "1  ['Preheat oven to 300°F (150°C). Season shanks...  \n",
       "2  ['Line a large plate with a triple layer of pa...  \n",
       "3  ['Bring a large pot of salted water to a rolli...  \n",
       "4  ['In a medium bowl, mash blue cheese with a fo...  "
      ]
     },
     "metadata": {},
     "output_type": "display_data"
    },
    {
     "data": {
      "text/plain": [
       "(6739, 7)"
      ]
     },
     "execution_count": 2,
     "metadata": {},
     "output_type": "execute_result"
    }
   ],
   "source": [
    "se_df = pd.read_csv('../data/serious_eats_data.csv')\n",
    "display(se_df.head(5))\n",
    "se_df.shape"
   ]
  },
  {
   "attachments": {},
   "cell_type": "markdown",
   "metadata": {},
   "source": [
    "Lowest hanging fruits to analyze are recipe `category` and `cuisine`. The other ones will need more clean up. So let me look at these two first. "
   ]
  },
  {
   "attachments": {},
   "cell_type": "markdown",
   "metadata": {},
   "source": [
    "# `category` feature"
   ]
  },
  {
   "cell_type": "code",
   "execution_count": 3,
   "metadata": {},
   "outputs": [
    {
     "data": {
      "text/plain": [
       "count                    6726\n",
       "unique                   2198\n",
       "top       ['Entree', 'Mains']\n",
       "freq                      252\n",
       "Name: category, dtype: object"
      ]
     },
     "execution_count": 3,
     "metadata": {},
     "output_type": "execute_result"
    }
   ],
   "source": [
    "se_df['category'].describe()"
   ]
  },
  {
   "cell_type": "code",
   "execution_count": 4,
   "metadata": {},
   "outputs": [
    {
     "data": {
      "text/plain": [
       "category\n",
       "['Entree', 'Mains']                                          252\n",
       "['Mains']                                                    165\n",
       "['Entree', 'Dinner', 'Mains']                                141\n",
       "['Side Dish', 'Sides']                                       136\n",
       "['Entree']                                                   131\n",
       "                                                            ... \n",
       "['Dinner', 'Entree', 'Appetizer', 'Mains']                     1\n",
       "['Entree', 'Appetizer', 'Condiments and Sauces', 'Mains']      1\n",
       "['Sauce', 'Condiment']                                         1\n",
       "['Pizza', 'Sausage']                                           1\n",
       "['Lunch', 'Dinner', 'Appetizer', 'Mains']                      1\n",
       "Name: count, Length: 2198, dtype: int64"
      ]
     },
     "execution_count": 4,
     "metadata": {},
     "output_type": "execute_result"
    }
   ],
   "source": [
    "se_df['category'].value_counts()"
   ]
  },
  {
   "attachments": {},
   "cell_type": "markdown",
   "metadata": {},
   "source": [
    "List values in pandas is actually [tricky](https://towardsdatascience.com/dealing-with-list-values-in-pandas-dataframes-a177e534f173) because they are saved as strings, not as lists. This is an artifact of saving the data as .csv. So it is not looping through the lists to count unique values."
   ]
  },
  {
   "cell_type": "code",
   "execution_count": 5,
   "metadata": {},
   "outputs": [
    {
     "name": "stdout",
     "output_type": "stream",
     "text": [
      "list 0 is <class 'str'>\n",
      "list 1 is <class 'str'>\n",
      "list 2 is <class 'str'>\n",
      "list 3 is <class 'str'>\n",
      "list 4 is <class 'str'>\n",
      "list 5 is <class 'str'>\n",
      "list 6 is <class 'str'>\n",
      "list 7 is <class 'str'>\n",
      "list 8 is <class 'str'>\n",
      "list 9 is <class 'str'>\n"
     ]
    }
   ],
   "source": [
    "for i, l in enumerate(se_df['category'].iloc[:10]):\n",
    "    print(\"list\",i,\"is\",type(l))"
   ]
  },
  {
   "cell_type": "code",
   "execution_count": 6,
   "metadata": {},
   "outputs": [],
   "source": [
    "from ast import literal_eval\n",
    "se_df['category'] = se_df['category'].apply(lambda x: literal_eval(x) if not pd.isna(x) else x)"
   ]
  },
  {
   "cell_type": "code",
   "execution_count": 8,
   "metadata": {},
   "outputs": [
    {
     "name": "stdout",
     "output_type": "stream",
     "text": [
      "list 0 is <class 'list'>\n",
      "list 1 is <class 'list'>\n",
      "list 2 is <class 'list'>\n",
      "list 3 is <class 'list'>\n",
      "list 4 is <class 'list'>\n",
      "list 5 is <class 'list'>\n",
      "list 6 is <class 'list'>\n",
      "list 7 is <class 'list'>\n",
      "list 8 is <class 'list'>\n",
      "list 9 is <class 'list'>\n"
     ]
    }
   ],
   "source": [
    "for i, l in enumerate(se_df['category'].iloc[:10]):\n",
    "    print(\"list\",i,\"is\",type(l))"
   ]
  },
  {
   "cell_type": "code",
   "execution_count": 11,
   "metadata": {},
   "outputs": [
    {
     "data": {
      "text/plain": [
       "category\n",
       "Entree                           1740\n",
       "Mains                            1605\n",
       "Dessert                           801\n",
       "Side Dish                         744\n",
       "Dinner                            735\n",
       "                                 ... \n",
       "Blondies                            4\n",
       "Syrup                               3\n",
       "Banana Bread                        3\n",
       "Ice Cream Sandwiches and Bars       3\n",
       "Lemonade                            1\n",
       "Name: count, Length: 114, dtype: int64"
      ]
     },
     "execution_count": 11,
     "metadata": {},
     "output_type": "execute_result"
    }
   ],
   "source": [
    "se_df['category'].explode().value_counts()"
   ]
  },
  {
   "attachments": {},
   "cell_type": "markdown",
   "metadata": {},
   "source": [
    "It's added complexity to read .csv, so I'm saving and reading the scraped data as .pkl instead from now on. I am keeping the .csv for reading with Excel."
   ]
  },
  {
   "cell_type": "code",
   "execution_count": 42,
   "metadata": {},
   "outputs": [
    {
     "name": "stdout",
     "output_type": "stream",
     "text": [
      "list 0 is <class 'list'>\n",
      "list 1 is <class 'list'>\n",
      "list 2 is <class 'list'>\n",
      "list 3 is <class 'list'>\n",
      "list 4 is <class 'list'>\n",
      "category\n",
      "Entree                           1740\n",
      "Mains                            1605\n",
      "Dessert                           801\n",
      "Side Dish                         744\n",
      "Dinner                            735\n",
      "                                 ... \n",
      "Blondies                            4\n",
      "Syrup                               3\n",
      "Banana Bread                        3\n",
      "Ice Cream Sandwiches and Bars       3\n",
      "Lemonade                            1\n",
      "Name: count, Length: 114, dtype: int64\n"
     ]
    }
   ],
   "source": [
    "se_df = pd.read_pickle('../data/serious_eats_data.pkl')\n",
    "for i, l in enumerate(se_df['category'].iloc[:5]):\n",
    "    print(\"list\",i,\"is\",type(l))\n",
    "print(se_df['category'].explode().value_counts())"
   ]
  },
  {
   "cell_type": "code",
   "execution_count": 43,
   "metadata": {},
   "outputs": [],
   "source": [
    "unique_categories = se_df['category'].explode().value_counts().index.tolist()\n",
    "unique_categories_counts = se_df['category'].explode().value_counts().values"
   ]
  },
  {
   "cell_type": "code",
   "execution_count": 44,
   "metadata": {},
   "outputs": [
    {
     "data": {
      "text/plain": [
       "Text(0.5, 1.0, 'Total Count by Category')"
      ]
     },
     "execution_count": 44,
     "metadata": {},
     "output_type": "execute_result"
    },
    {
     "data": {
      "image/png": "[encoded data removed]",
      "text/plain": [
       "<Figure size 640x480 with 1 Axes>"
      ]
     },
     "metadata": {},
     "output_type": "display_data"
    }
   ],
   "source": [
    "sns.barplot(y=unique_categories[:30], x=unique_categories_counts[:30], orient='h')\n",
    "\n",
    "plt.title('Total Count by Category')"
   ]
  },
  {
   "cell_type": "code",
   "execution_count": 29,
   "metadata": {},
   "outputs": [],
   "source": [
    "meal_type = ['Dinner', 'Lunch', 'Breakfast and Brunch', 'Breakfast', 'Brunch', 'Quick Dinners']"
   ]
  },
  {
   "attachments": {},
   "cell_type": "markdown",
   "metadata": {},
   "source": [
    "# `cuisine` feature"
   ]
  },
  {
   "cell_type": "code",
   "execution_count": 45,
   "metadata": {},
   "outputs": [
    {
     "data": {
      "text/plain": [
       "cuisine\n",
       "American                  2566\n",
       "Italian                    583\n",
       "French                     409\n",
       "Mexican                    353\n",
       "Chinese                    282\n",
       "Asian                      235\n",
       "Indian                     178\n",
       "Thai                       173\n",
       "Japanese                   162\n",
       "Middle Eastern             139\n",
       "Copycat                    125\n",
       "British                    115\n",
       "Korean                     100\n",
       "Spanish                     95\n",
       "Latin                       94\n",
       "Caribbean                   87\n",
       "Latin American              86\n",
       "Southern                    84\n",
       "Tex-Mex                     72\n",
       "Vietnamese                  60\n",
       "Greek                       50\n",
       "Kosher                      49\n",
       "African                     39\n",
       "German                      35\n",
       "South American              35\n",
       "Eastern European            29\n",
       "Moroccan                    24\n",
       "Cajun                       20\n",
       "Creole                      19\n",
       "Moroccan/North African      18\n",
       "Scandinavian                17\n",
       "Filipino                    17\n",
       "Hawaiian                    16\n",
       "Fusion                      16\n",
       "Irish                       16\n",
       "Polish                       6\n",
       "Scottish                     5\n",
       "Dutch                        3\n",
       "Australian                   1\n",
       "Name: count, dtype: int64"
      ]
     },
     "execution_count": 45,
     "metadata": {},
     "output_type": "execute_result"
    }
   ],
   "source": [
    "se_df['cuisine'].explode().value_counts()"
   ]
  },
  {
   "cell_type": "code",
   "execution_count": 32,
   "metadata": {},
   "outputs": [],
   "source": [
    "unique_cuisine = se_df['cuisine'].explode().value_counts().index.tolist()\n",
    "unique_cuisine_counts = se_df['cuisine'].explode().value_counts().values"
   ]
  },
  {
   "cell_type": "code",
   "execution_count": 36,
   "metadata": {},
   "outputs": [
    {
     "data": {
      "text/plain": [
       "Text(0.5, 1.0, 'Total Count by Cuisine')"
      ]
     },
     "execution_count": 36,
     "metadata": {},
     "output_type": "execute_result"
    },
    {
     "data": {
      "image/png": "[encoded data removed]",
      "text/plain": [
       "<Figure size 640x480 with 1 Axes>"
      ]
     },
     "metadata": {},
     "output_type": "display_data"
    }
   ],
   "source": [
    "sns.barplot(y=unique_cuisine[:15], x=unique_cuisine_counts[:15], orient='h')\n",
    "\n",
    "plt.title('Total Count by Cuisine')"
   ]
  },
  {
   "attachments": {},
   "cell_type": "markdown",
   "metadata": {},
   "source": [
    "I wonder if there is a correlation between the number of steps in a recipe to another variable like category or even cuisine. Let me create another feature named `num_steps`"
   ]
  },
  {
   "cell_type": "code",
   "execution_count": 62,
   "metadata": {},
   "outputs": [],
   "source": [
    "se_df['num_steps'] = se_df['instruction'].apply(lambda x: int(len(x)) if not np.all(pd.isna(x)) else x)"
   ]
  },
  {
   "cell_type": "code",
   "execution_count": 88,
   "metadata": {},
   "outputs": [
    {
     "data": {
      "text/html": [
       "<div>\n",
       "<style scoped>\n",
       "    .dataframe tbody tr th:only-of-type {\n",
       "        vertical-align: middle;\n",
       "    }\n",
       "\n",
       "    .dataframe tbody tr th {\n",
       "        vertical-align: top;\n",
       "    }\n",
       "\n",
       "    .dataframe thead th {\n",
       "        text-align: right;\n",
       "    }\n",
       "</style>\n",
       "<table border=\"1\" class=\"dataframe\">\n",
       "  <thead>\n",
       "    <tr style=\"text-align: right;\">\n",
       "      <th></th>\n",
       "      <th>cuisine</th>\n",
       "      <th>num_steps</th>\n",
       "    </tr>\n",
       "  </thead>\n",
       "  <tbody>\n",
       "    <tr>\n",
       "      <th>0</th>\n",
       "      <td>[American]</td>\n",
       "      <td>4.0</td>\n",
       "    </tr>\n",
       "    <tr>\n",
       "      <th>1</th>\n",
       "      <td>[American]</td>\n",
       "      <td>5.0</td>\n",
       "    </tr>\n",
       "    <tr>\n",
       "      <th>2</th>\n",
       "      <td>[Asian]</td>\n",
       "      <td>2.0</td>\n",
       "    </tr>\n",
       "    <tr>\n",
       "      <th>3</th>\n",
       "      <td>[Latin American, Latin]</td>\n",
       "      <td>7.0</td>\n",
       "    </tr>\n",
       "    <tr>\n",
       "      <th>4</th>\n",
       "      <td>[American]</td>\n",
       "      <td>1.0</td>\n",
       "    </tr>\n",
       "    <tr>\n",
       "      <th>5</th>\n",
       "      <td>[American]</td>\n",
       "      <td>9.0</td>\n",
       "    </tr>\n",
       "    <tr>\n",
       "      <th>6</th>\n",
       "      <td>[Spanish]</td>\n",
       "      <td>7.0</td>\n",
       "    </tr>\n",
       "    <tr>\n",
       "      <th>8</th>\n",
       "      <td>[Asian]</td>\n",
       "      <td>5.0</td>\n",
       "    </tr>\n",
       "    <tr>\n",
       "      <th>9</th>\n",
       "      <td>[American]</td>\n",
       "      <td>8.0</td>\n",
       "    </tr>\n",
       "    <tr>\n",
       "      <th>10</th>\n",
       "      <td>[American]</td>\n",
       "      <td>6.0</td>\n",
       "    </tr>\n",
       "  </tbody>\n",
       "</table>\n",
       "</div>"
      ],
      "text/plain": [
       "                    cuisine  num_steps\n",
       "0                [American]        4.0\n",
       "1                [American]        5.0\n",
       "2                   [Asian]        2.0\n",
       "3   [Latin American, Latin]        7.0\n",
       "4                [American]        1.0\n",
       "5                [American]        9.0\n",
       "6                 [Spanish]        7.0\n",
       "8                   [Asian]        5.0\n",
       "9                [American]        8.0\n",
       "10               [American]        6.0"
      ]
     },
     "metadata": {},
     "output_type": "display_data"
    }
   ],
   "source": [
    "cuisine_steps_df = se_df[~se_df['cuisine'].isna()][['cuisine', 'num_steps']]\n",
    "display(cuisine_steps_df.head(10))"
   ]
  },
  {
   "attachments": {},
   "cell_type": "markdown",
   "metadata": {},
   "source": [
    "Each recipe is assume to represent one type of cuisine. First, sort list of each recipe to standardize ordering. Then, take only the first cuisine label as the recipe's label. Notice that `[Latin American, Latin]` becomes `[Latin, Latin American]`."
   ]
  },
  {
   "cell_type": "code",
   "execution_count": 89,
   "metadata": {},
   "outputs": [
    {
     "data": {
      "text/html": [
       "<div>\n",
       "<style scoped>\n",
       "    .dataframe tbody tr th:only-of-type {\n",
       "        vertical-align: middle;\n",
       "    }\n",
       "\n",
       "    .dataframe tbody tr th {\n",
       "        vertical-align: top;\n",
       "    }\n",
       "\n",
       "    .dataframe thead th {\n",
       "        text-align: right;\n",
       "    }\n",
       "</style>\n",
       "<table border=\"1\" class=\"dataframe\">\n",
       "  <thead>\n",
       "    <tr style=\"text-align: right;\">\n",
       "      <th></th>\n",
       "      <th>cuisine</th>\n",
       "      <th>num_steps</th>\n",
       "    </tr>\n",
       "  </thead>\n",
       "  <tbody>\n",
       "    <tr>\n",
       "      <th>0</th>\n",
       "      <td>[American]</td>\n",
       "      <td>4.0</td>\n",
       "    </tr>\n",
       "    <tr>\n",
       "      <th>1</th>\n",
       "      <td>[American]</td>\n",
       "      <td>5.0</td>\n",
       "    </tr>\n",
       "    <tr>\n",
       "      <th>2</th>\n",
       "      <td>[Asian]</td>\n",
       "      <td>2.0</td>\n",
       "    </tr>\n",
       "    <tr>\n",
       "      <th>3</th>\n",
       "      <td>[Latin, Latin American]</td>\n",
       "      <td>7.0</td>\n",
       "    </tr>\n",
       "    <tr>\n",
       "      <th>4</th>\n",
       "      <td>[American]</td>\n",
       "      <td>1.0</td>\n",
       "    </tr>\n",
       "    <tr>\n",
       "      <th>5</th>\n",
       "      <td>[American]</td>\n",
       "      <td>9.0</td>\n",
       "    </tr>\n",
       "    <tr>\n",
       "      <th>6</th>\n",
       "      <td>[Spanish]</td>\n",
       "      <td>7.0</td>\n",
       "    </tr>\n",
       "    <tr>\n",
       "      <th>8</th>\n",
       "      <td>[Asian]</td>\n",
       "      <td>5.0</td>\n",
       "    </tr>\n",
       "    <tr>\n",
       "      <th>9</th>\n",
       "      <td>[American]</td>\n",
       "      <td>8.0</td>\n",
       "    </tr>\n",
       "    <tr>\n",
       "      <th>10</th>\n",
       "      <td>[American]</td>\n",
       "      <td>6.0</td>\n",
       "    </tr>\n",
       "  </tbody>\n",
       "</table>\n",
       "</div>"
      ],
      "text/plain": [
       "                    cuisine  num_steps\n",
       "0                [American]        4.0\n",
       "1                [American]        5.0\n",
       "2                   [Asian]        2.0\n",
       "3   [Latin, Latin American]        7.0\n",
       "4                [American]        1.0\n",
       "5                [American]        9.0\n",
       "6                 [Spanish]        7.0\n",
       "8                   [Asian]        5.0\n",
       "9                [American]        8.0\n",
       "10               [American]        6.0"
      ]
     },
     "metadata": {},
     "output_type": "display_data"
    }
   ],
   "source": [
    "cuisine_steps_df['cuisine'] = cuisine_steps_df['cuisine'].apply(lambda x: sorted(x))\n",
    "display(cuisine_steps_df.head(10))"
   ]
  },
  {
   "cell_type": "code",
   "execution_count": 90,
   "metadata": {},
   "outputs": [
    {
     "data": {
      "text/html": [
       "<div>\n",
       "<style scoped>\n",
       "    .dataframe tbody tr th:only-of-type {\n",
       "        vertical-align: middle;\n",
       "    }\n",
       "\n",
       "    .dataframe tbody tr th {\n",
       "        vertical-align: top;\n",
       "    }\n",
       "\n",
       "    .dataframe thead th {\n",
       "        text-align: right;\n",
       "    }\n",
       "</style>\n",
       "<table border=\"1\" class=\"dataframe\">\n",
       "  <thead>\n",
       "    <tr style=\"text-align: right;\">\n",
       "      <th></th>\n",
       "      <th>cuisine</th>\n",
       "      <th>num_steps</th>\n",
       "    </tr>\n",
       "  </thead>\n",
       "  <tbody>\n",
       "    <tr>\n",
       "      <th>0</th>\n",
       "      <td>American</td>\n",
       "      <td>4.0</td>\n",
       "    </tr>\n",
       "    <tr>\n",
       "      <th>1</th>\n",
       "      <td>American</td>\n",
       "      <td>5.0</td>\n",
       "    </tr>\n",
       "    <tr>\n",
       "      <th>2</th>\n",
       "      <td>Asian</td>\n",
       "      <td>2.0</td>\n",
       "    </tr>\n",
       "    <tr>\n",
       "      <th>3</th>\n",
       "      <td>Latin</td>\n",
       "      <td>7.0</td>\n",
       "    </tr>\n",
       "    <tr>\n",
       "      <th>4</th>\n",
       "      <td>American</td>\n",
       "      <td>1.0</td>\n",
       "    </tr>\n",
       "    <tr>\n",
       "      <th>5</th>\n",
       "      <td>American</td>\n",
       "      <td>9.0</td>\n",
       "    </tr>\n",
       "    <tr>\n",
       "      <th>6</th>\n",
       "      <td>Spanish</td>\n",
       "      <td>7.0</td>\n",
       "    </tr>\n",
       "    <tr>\n",
       "      <th>8</th>\n",
       "      <td>Asian</td>\n",
       "      <td>5.0</td>\n",
       "    </tr>\n",
       "    <tr>\n",
       "      <th>9</th>\n",
       "      <td>American</td>\n",
       "      <td>8.0</td>\n",
       "    </tr>\n",
       "    <tr>\n",
       "      <th>10</th>\n",
       "      <td>American</td>\n",
       "      <td>6.0</td>\n",
       "    </tr>\n",
       "  </tbody>\n",
       "</table>\n",
       "</div>"
      ],
      "text/plain": [
       "     cuisine  num_steps\n",
       "0   American        4.0\n",
       "1   American        5.0\n",
       "2      Asian        2.0\n",
       "3      Latin        7.0\n",
       "4   American        1.0\n",
       "5   American        9.0\n",
       "6    Spanish        7.0\n",
       "8      Asian        5.0\n",
       "9   American        8.0\n",
       "10  American        6.0"
      ]
     },
     "metadata": {},
     "output_type": "display_data"
    }
   ],
   "source": [
    "cuisine_steps_df['cuisine'] = cuisine_steps_df['cuisine'].apply(lambda x: x[0])\n",
    "display(cuisine_steps_df.head(10))"
   ]
  },
  {
   "cell_type": "code",
   "execution_count": 134,
   "metadata": {},
   "outputs": [],
   "source": [
    "mean_steps_by_cuisine = (cuisine_steps_df.groupby(['cuisine']).mean().sort_values(by='num_steps', ascending=False))['num_steps']\n"
   ]
  },
  {
   "attachments": {},
   "cell_type": "markdown",
   "metadata": {},
   "source": [
    "Australian recipes might seem to have a lot of steps but there is only one australian recipe so we should account for this by weighing them by inverse frequency."
   ]
  },
  {
   "cell_type": "code",
   "execution_count": 113,
   "metadata": {},
   "outputs": [
    {
     "data": {
      "text/plain": [
       "<Axes: ylabel='cuisine'>"
      ]
     },
     "execution_count": 113,
     "metadata": {},
     "output_type": "execute_result"
    },
    {
     "data": {
      "image/png": "[encoded data removed]",
      "text/plain": [
       "<Figure size 640x480 with 1 Axes>"
      ]
     },
     "metadata": {},
     "output_type": "display_data"
    }
   ],
   "source": [
    "sns.barplot(y=mean_steps_by_cuisine.index, x=mean_steps_by_cuisine.values, orient='h')"
   ]
  },
  {
   "cell_type": "code",
   "execution_count": 132,
   "metadata": {},
   "outputs": [
    {
     "data": {
      "text/html": [
       "<div>\n",
       "<style scoped>\n",
       "    .dataframe tbody tr th:only-of-type {\n",
       "        vertical-align: middle;\n",
       "    }\n",
       "\n",
       "    .dataframe tbody tr th {\n",
       "        vertical-align: top;\n",
       "    }\n",
       "\n",
       "    .dataframe thead tr th {\n",
       "        text-align: left;\n",
       "    }\n",
       "\n",
       "    .dataframe thead tr:last-of-type th {\n",
       "        text-align: right;\n",
       "    }\n",
       "</style>\n",
       "<table border=\"1\" class=\"dataframe\">\n",
       "  <thead>\n",
       "    <tr>\n",
       "      <th></th>\n",
       "      <th colspan=\"2\" halign=\"left\">num_steps</th>\n",
       "    </tr>\n",
       "    <tr>\n",
       "      <th></th>\n",
       "      <th>count</th>\n",
       "      <th>mean</th>\n",
       "    </tr>\n",
       "    <tr>\n",
       "      <th>cuisine</th>\n",
       "      <th></th>\n",
       "      <th></th>\n",
       "    </tr>\n",
       "  </thead>\n",
       "  <tbody>\n",
       "    <tr>\n",
       "      <th>African</th>\n",
       "      <td>39</td>\n",
       "      <td>5.846154</td>\n",
       "    </tr>\n",
       "    <tr>\n",
       "      <th>American</th>\n",
       "      <td>2565</td>\n",
       "      <td>4.171540</td>\n",
       "    </tr>\n",
       "    <tr>\n",
       "      <th>Asian</th>\n",
       "      <td>217</td>\n",
       "      <td>4.562212</td>\n",
       "    </tr>\n",
       "    <tr>\n",
       "      <th>Australian</th>\n",
       "      <td>1</td>\n",
       "      <td>7.000000</td>\n",
       "    </tr>\n",
       "    <tr>\n",
       "      <th>British</th>\n",
       "      <td>103</td>\n",
       "      <td>3.747573</td>\n",
       "    </tr>\n",
       "    <tr>\n",
       "      <th>Cajun</th>\n",
       "      <td>18</td>\n",
       "      <td>4.444444</td>\n",
       "    </tr>\n",
       "    <tr>\n",
       "      <th>Caribbean</th>\n",
       "      <td>82</td>\n",
       "      <td>3.646341</td>\n",
       "    </tr>\n",
       "    <tr>\n",
       "      <th>Chinese</th>\n",
       "      <td>264</td>\n",
       "      <td>4.780303</td>\n",
       "    </tr>\n",
       "    <tr>\n",
       "      <th>Copycat</th>\n",
       "      <td>54</td>\n",
       "      <td>4.018519</td>\n",
       "    </tr>\n",
       "    <tr>\n",
       "      <th>Creole</th>\n",
       "      <td>12</td>\n",
       "      <td>5.250000</td>\n",
       "    </tr>\n",
       "    <tr>\n",
       "      <th>Dutch</th>\n",
       "      <td>2</td>\n",
       "      <td>5.000000</td>\n",
       "    </tr>\n",
       "    <tr>\n",
       "      <th>Eastern European</th>\n",
       "      <td>28</td>\n",
       "      <td>5.535714</td>\n",
       "    </tr>\n",
       "    <tr>\n",
       "      <th>Filipino</th>\n",
       "      <td>5</td>\n",
       "      <td>3.800000</td>\n",
       "    </tr>\n",
       "    <tr>\n",
       "      <th>French</th>\n",
       "      <td>367</td>\n",
       "      <td>4.692098</td>\n",
       "    </tr>\n",
       "    <tr>\n",
       "      <th>Fusion</th>\n",
       "      <td>13</td>\n",
       "      <td>4.769231</td>\n",
       "    </tr>\n",
       "    <tr>\n",
       "      <th>German</th>\n",
       "      <td>30</td>\n",
       "      <td>6.233333</td>\n",
       "    </tr>\n",
       "    <tr>\n",
       "      <th>Greek</th>\n",
       "      <td>45</td>\n",
       "      <td>3.644444</td>\n",
       "    </tr>\n",
       "    <tr>\n",
       "      <th>Hawaiian</th>\n",
       "      <td>15</td>\n",
       "      <td>2.866667</td>\n",
       "    </tr>\n",
       "    <tr>\n",
       "      <th>Indian</th>\n",
       "      <td>168</td>\n",
       "      <td>3.898810</td>\n",
       "    </tr>\n",
       "    <tr>\n",
       "      <th>Irish</th>\n",
       "      <td>11</td>\n",
       "      <td>3.090909</td>\n",
       "    </tr>\n",
       "    <tr>\n",
       "      <th>Italian</th>\n",
       "      <td>525</td>\n",
       "      <td>5.060952</td>\n",
       "    </tr>\n",
       "    <tr>\n",
       "      <th>Japanese</th>\n",
       "      <td>144</td>\n",
       "      <td>5.090278</td>\n",
       "    </tr>\n",
       "    <tr>\n",
       "      <th>Korean</th>\n",
       "      <td>87</td>\n",
       "      <td>4.563218</td>\n",
       "    </tr>\n",
       "    <tr>\n",
       "      <th>Kosher</th>\n",
       "      <td>44</td>\n",
       "      <td>4.977273</td>\n",
       "    </tr>\n",
       "    <tr>\n",
       "      <th>Latin</th>\n",
       "      <td>89</td>\n",
       "      <td>4.505618</td>\n",
       "    </tr>\n",
       "    <tr>\n",
       "      <th>Latin American</th>\n",
       "      <td>40</td>\n",
       "      <td>4.900000</td>\n",
       "    </tr>\n",
       "    <tr>\n",
       "      <th>Mexican</th>\n",
       "      <td>305</td>\n",
       "      <td>3.934426</td>\n",
       "    </tr>\n",
       "    <tr>\n",
       "      <th>Middle Eastern</th>\n",
       "      <td>125</td>\n",
       "      <td>5.024000</td>\n",
       "    </tr>\n",
       "    <tr>\n",
       "      <th>Moroccan</th>\n",
       "      <td>20</td>\n",
       "      <td>4.800000</td>\n",
       "    </tr>\n",
       "    <tr>\n",
       "      <th>Moroccan/North African</th>\n",
       "      <td>3</td>\n",
       "      <td>5.333333</td>\n",
       "    </tr>\n",
       "    <tr>\n",
       "      <th>Polish</th>\n",
       "      <td>5</td>\n",
       "      <td>5.600000</td>\n",
       "    </tr>\n",
       "    <tr>\n",
       "      <th>Scandinavian</th>\n",
       "      <td>14</td>\n",
       "      <td>4.285714</td>\n",
       "    </tr>\n",
       "    <tr>\n",
       "      <th>Scottish</th>\n",
       "      <td>5</td>\n",
       "      <td>5.800000</td>\n",
       "    </tr>\n",
       "    <tr>\n",
       "      <th>South American</th>\n",
       "      <td>18</td>\n",
       "      <td>3.888889</td>\n",
       "    </tr>\n",
       "    <tr>\n",
       "      <th>Southern</th>\n",
       "      <td>34</td>\n",
       "      <td>4.882353</td>\n",
       "    </tr>\n",
       "    <tr>\n",
       "      <th>Spanish</th>\n",
       "      <td>84</td>\n",
       "      <td>4.714286</td>\n",
       "    </tr>\n",
       "    <tr>\n",
       "      <th>Tex-Mex</th>\n",
       "      <td>38</td>\n",
       "      <td>4.657895</td>\n",
       "    </tr>\n",
       "    <tr>\n",
       "      <th>Thai</th>\n",
       "      <td>165</td>\n",
       "      <td>4.139394</td>\n",
       "    </tr>\n",
       "    <tr>\n",
       "      <th>Vietnamese</th>\n",
       "      <td>49</td>\n",
       "      <td>6.000000</td>\n",
       "    </tr>\n",
       "  </tbody>\n",
       "</table>\n",
       "</div>"
      ],
      "text/plain": [
       "                       num_steps          \n",
       "                           count      mean\n",
       "cuisine                                   \n",
       "African                       39  5.846154\n",
       "American                    2565  4.171540\n",
       "Asian                        217  4.562212\n",
       "Australian                     1  7.000000\n",
       "British                      103  3.747573\n",
       "Cajun                         18  4.444444\n",
       "Caribbean                     82  3.646341\n",
       "Chinese                      264  4.780303\n",
       "Copycat                       54  4.018519\n",
       "Creole                        12  5.250000\n",
       "Dutch                          2  5.000000\n",
       "Eastern European              28  5.535714\n",
       "Filipino                       5  3.800000\n",
       "French                       367  4.692098\n",
       "Fusion                        13  4.769231\n",
       "German                        30  6.233333\n",
       "Greek                         45  3.644444\n",
       "Hawaiian                      15  2.866667\n",
       "Indian                       168  3.898810\n",
       "Irish                         11  3.090909\n",
       "Italian                      525  5.060952\n",
       "Japanese                     144  5.090278\n",
       "Korean                        87  4.563218\n",
       "Kosher                        44  4.977273\n",
       "Latin                         89  4.505618\n",
       "Latin American                40  4.900000\n",
       "Mexican                      305  3.934426\n",
       "Middle Eastern               125  5.024000\n",
       "Moroccan                      20  4.800000\n",
       "Moroccan/North African         3  5.333333\n",
       "Polish                         5  5.600000\n",
       "Scandinavian                  14  4.285714\n",
       "Scottish                       5  5.800000\n",
       "South American                18  3.888889\n",
       "Southern                      34  4.882353\n",
       "Spanish                       84  4.714286\n",
       "Tex-Mex                       38  4.657895\n",
       "Thai                         165  4.139394\n",
       "Vietnamese                    49  6.000000"
      ]
     },
     "execution_count": 132,
     "metadata": {},
     "output_type": "execute_result"
    }
   ],
   "source": [
    "mean_steps_by_cuisine = cuisine_steps_df.groupby(['cuisine']).agg(\n",
    "    ['count', 'mean']\n",
    ")\n",
    "mean_steps_by_cuisine"
   ]
  },
  {
   "attachments": {},
   "cell_type": "markdown",
   "metadata": {},
   "source": []
  }
 ],
 "metadata": {
  "kernelspec": {
   "display_name": "recipe-app",
   "language": "python",
   "name": "python3"
  },
  "language_info": {
   "codemirror_mode": {
    "name": "ipython",
    "version": 3
   },
   "file_extension": ".py",
   "mimetype": "text/x-python",
   "name": "python",
   "nbconvert_exporter": "python",
   "pygments_lexer": "ipython3",
   "version": "3.10.11"
  },
  "orig_nbformat": 4
 },
 "nbformat": 4,
 "nbformat_minor": 2
}
